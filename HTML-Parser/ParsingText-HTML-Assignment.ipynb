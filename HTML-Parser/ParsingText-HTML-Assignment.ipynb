{
 "cells": [
  {
   "cell_type": "code",
   "execution_count": 45,
   "metadata": {},
   "outputs": [
    {
     "name": "stdout",
     "output_type": "stream",
     "text": [
      "Enter File Name with .htmlexample_html_file.html\n",
      "-------Tag Names------\n",
      "html\n",
      "head\n",
      "title\n",
      "style\n",
      "body\n",
      "h1\n",
      "p\n",
      "a\n",
      "Total Tags In example_html_file.html  are 10\n"
     ]
    }
   ],
   "source": [
    "# Count Tags In HTML File\n",
    "from html.parser import HTMLParser\n",
    "import os\n",
    "import sys\n",
    "\n",
    "dictionarTags ={}\n",
    "dictionaryCloseTags ={}\n",
    "class MyHTMLParser(HTMLParser):\n",
    "    def handle_starttag(self, tag, attrs):\n",
    "        #print(\"Encountered a start tag:\", tag)\n",
    "        if tag not in dictionarTags:\n",
    "            dictionarTags[tag] = 1\n",
    "        else:\n",
    "            dictionarTags[tag]  +=1    \n",
    "    def display (self):  \n",
    "        print(\"-------Tag Names------\")\n",
    "        for i in dictionarTags:\n",
    "            print(i)\n",
    "        \n",
    "    def handle_endtag(self, tag):\n",
    "        if tag not in dictionaryCloseTags:\n",
    "            dictionaryCloseTags[tag] = 1\n",
    "        else:\n",
    "            dictionaryCloseTags[tag]  +=1 \n",
    "\n",
    "\n",
    "userInput = input(\"Enter File Name with .html\")   \n",
    "try:\n",
    "    with open(userInput, \"r\") as f:\n",
    "        parser = MyHTMLParser()\n",
    "        fileContent = f.read()\n",
    "        pairedTags = fileContent.count('</')\n",
    "        unPairedTags = fileContent.count('/>')\n",
    "        parser.feed(fileContent)\n",
    "        parser.display()\n",
    "        totalTags = pairedTags + unPairedTags\n",
    "        print(\"Total Tags In\",userInput ,\" are\",totalTags)\n",
    "except FileNotFoundError:\n",
    "        msg = \"Sorry, the file \" + userInput + \" does not exist.\"\n",
    "        print(msg)"
   ]
  },
  {
   "cell_type": "code",
   "execution_count": 59,
   "metadata": {},
   "outputs": [
    {
     "name": "stdout",
     "output_type": "stream",
     "text": [
      "please enter comma seperated file name: filename.txt \n",
      "sample_text_file.txt4\n",
      "\n",
      " Number of words 38128 \n",
      " Number of spaces  54320 \n",
      " Number of lines 4821  \n",
      " Number Of Non space characters 34\n",
      "Number of paragraph 1\n"
     ]
    }
   ],
   "source": [
    "import os\n",
    "import sys\n",
    "\n",
    "def paraCounter(infile):\n",
    "    f = open(infile, encoding=\"utf8\")\n",
    "    linecount = 0\n",
    "    paragraphcount = 0\n",
    "    empty = True\n",
    "    for i in f:\n",
    "        if '\\n' in i:\n",
    "            linecount += 1\n",
    "            if len(i) < 2:\n",
    "                empty = True\n",
    "            elif len(i) > 2 and empty is True:\n",
    "                paragraphcount = paragraphcount + 1\n",
    "                empty = False\n",
    "    f.close()\n",
    "    print(\"Number of paragraph {}\".format(paragraphcount))\n",
    "\n",
    "\n",
    "def fileParser(path):\n",
    "\n",
    "    fileOpen = open(path,encoding=\"utf8\")\n",
    "    totalWords= totalSpaces = totalNumberLines = totalTabs = totalCharacters = totalTabs = 0\n",
    "    totalLineinFile = fileOpen.read()\n",
    "    totalCharacters = len(totalLineinFile)\n",
    "    totalWords = len(totalLineinFile.split())\n",
    "    totalNumberLines = totalLineinFile.count('\\n')\n",
    "    totalTabs = totalLineinFile.count('\\t')\n",
    "    totalSpaces = totalLineinFile.count(' ')\n",
    "    totalSpecialCharacters = totalCharacters - totalSpaces - totalTabs\n",
    "    return totalWords , totalSpaces,totalNumberLines ,totalTabs,totalSpecialCharacters\n",
    "    \n",
    "\n",
    "\n",
    "userInput = input(\"please enter comma seperated file name: filename.txt \\n\")\n",
    "\n",
    "try:\n",
    "    with open(userInput,encoding=\"utf8\") as f: \n",
    "        totalWords, totalSpaces, totalNumberLines,totalTabs,totalSpecialCharacters = fileParser(fileName)\n",
    "        print (\"\\n Number of words {} \\n Number of spaces  {} \\n Number of lines {}  \\n Number Of Non space characters {}\".format (totalWords , totalSpaces,totalNumberLines ,totalTabs,totalSpecialCharacters))\n",
    "        paraCounter(fileName)    \n",
    "except FileNotFoundError:\n",
    "        msg = \"Sorry, the file \" + userInput + \" does not exist.\"\n",
    "        print(msg)"
   ]
  },
  {
   "cell_type": "code",
   "execution_count": null,
   "metadata": {},
   "outputs": [],
   "source": []
  }
 ],
 "metadata": {
  "kernelspec": {
   "display_name": "Python 3",
   "language": "python",
   "name": "python3"
  },
  "language_info": {
   "codemirror_mode": {
    "name": "ipython",
    "version": 3
   },
   "file_extension": ".py",
   "mimetype": "text/x-python",
   "name": "python",
   "nbconvert_exporter": "python",
   "pygments_lexer": "ipython3",
   "version": "3.7.3"
  }
 },
 "nbformat": 4,
 "nbformat_minor": 2
}
