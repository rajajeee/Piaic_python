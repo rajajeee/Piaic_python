{
 "cells": [
  {
   "cell_type": "code",
   "execution_count": 6,
   "metadata": {},
   "outputs": [
    {
     "name": "stdout",
     "output_type": "stream",
     "text": [
      "Name of city is  Karachi\n",
      "City is karachi : True\n",
      "Name of city is  Islamabad\n",
      "City is karachi : False\n",
      "Name of city is  Rawalpindi\n",
      "City is karachi : False\n",
      "Name of city is  Lahore\n",
      "City is karachi : False\n",
      "Name of city is  Quetta\n",
      "City is karachi : False\n",
      "Name of city is  KPK\n",
      "City is karachi : False\n"
     ]
    }
   ],
   "source": [
    "cities = [\"Karachi\",\"Islamabad\",\"Rawalpindi\",\"Lahore\",\"Quetta\",\"KPK\"]\n",
    "\n",
    "for city in cities:\n",
    "    print(\"Name of city is \",city)\n",
    "    print(\"City is karachi :\", city in (\"Karachi\"))"
   ]
  },
  {
   "cell_type": "code",
   "execution_count": 29,
   "metadata": {},
   "outputs": [
    {
     "name": "stdout",
     "output_type": "stream",
     "text": [
      "________________________________________\n",
      "\n",
      "First Child Name is :  Saad Zahid\n",
      "Secound Child Name is :  Salman Zahid\n",
      "Third Child Name is :  Umair Zahid\n",
      "Last Child Name is :  Fahad Zahid\n",
      "\n",
      "________________________________________\n",
      "\n",
      "First Child Name is :  Saad Kamran\n",
      "Secound Child Name is :  Salman Kamran\n",
      "Third Child Name is :  Umair Kamran\n",
      "Last Child Name is :  Fahad Kamran\n",
      "\n",
      "________________________________________\n",
      "\n",
      "First Child Name is :  Saad Ali\n",
      "Secound Child Name is :  Salman Ali\n",
      "Third Child Name is :  Umair Ali\n",
      "Last Child Name is :  Fahad Ali\n",
      "\n",
      "________________________________________\n",
      "\n",
      "First Child Name is :  Saad Atta\n",
      "Secound Child Name is :  Salman Atta\n",
      "Third Child Name is :  Umair Atta\n",
      "Last Child Name is :  Fahad Atta\n",
      "\n"
     ]
    }
   ],
   "source": [
    "father_names = [\"Zahid\",\"Kamran\",\"Ali\",\"Atta\"]\n",
    "child_names = [\"Saad\",\"Salman\",\"Umair\",\"Fahad\"]\n",
    "\n",
    "full_name = []\n",
    "start =0\n",
    "for father_name in father_names:\n",
    "    for child_name in child_names:\n",
    "        full_name.append(child_name+ \" \"+father_name)\n",
    "    print(\"________________________________________\")\n",
    "    print(\"\")\n",
    "    print(\"First Child Name is : \",full_name[start])\n",
    "    print(\"Secound Child Name is : \",full_name[start+1])\n",
    "    print(\"Third Child Name is : \",full_name[start+2])\n",
    "    print(\"Last Child Name is : \",full_name[-1])\n",
    "    print(\"\")\n",
    "    start +=4\n",
    "    "
   ]
  },
  {
   "cell_type": "code",
   "execution_count": 28,
   "metadata": {},
   "outputs": [
    {
     "name": "stdout",
     "output_type": "stream",
     "text": [
      "Karachi\n",
      "Lahore\n",
      "Quetta\n",
      "Islamabad\n"
     ]
    }
   ],
   "source": [
    "cities = [\"karachi\",\"lahore\",\"quetta\",\"islamabad\"]\n",
    "\n",
    "for clean_city in cities:\n",
    "    print(clean_city.title())"
   ]
  },
  {
   "cell_type": "code",
   "execution_count": null,
   "metadata": {},
   "outputs": [],
   "source": []
  }
 ],
 "metadata": {
  "kernelspec": {
   "display_name": "Python 3",
   "language": "python",
   "name": "python3"
  },
  "language_info": {
   "codemirror_mode": {
    "name": "ipython",
    "version": 3
   },
   "file_extension": ".py",
   "mimetype": "text/x-python",
   "name": "python",
   "nbconvert_exporter": "python",
   "pygments_lexer": "ipython3",
   "version": "3.7.3"
  }
 },
 "nbformat": 4,
 "nbformat_minor": 2
}
